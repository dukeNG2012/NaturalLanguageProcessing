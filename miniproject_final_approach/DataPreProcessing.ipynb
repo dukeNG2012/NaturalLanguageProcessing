{
 "cells": [
  {
   "cell_type": "code",
   "execution_count": 53,
   "metadata": {},
   "outputs": [],
   "source": [
    "#! File này bao gồm việc drop nan, cùng 1 type dữ liệu và chuyển sang csv file"
   ]
  },
  {
   "cell_type": "code",
   "execution_count": 99,
   "metadata": {},
   "outputs": [],
   "source": [
    "import pandas as pd\n",
    "import csv"
   ]
  },
  {
   "cell_type": "code",
   "execution_count": 109,
   "metadata": {},
   "outputs": [],
   "source": [
    "#! tách từng line ra , cách\n",
    "with open('./Mini-projects/MSRP/train.tsv','r',encoding='utf-8') as txtfile, open('train.csv','w',newline='',encoding='utf-8') as csvfile:\n",
    "    # nếu thừa khoảng trắng thì loại bỏ khoảng trắng, tách ra bằng dấu phẩy\n",
    "    data = [line.strip().split(',') for line in txtfile]\n",
    "    \n",
    "    #! viết vào csv theo từng hàng\n",
    "    csvWrite = csv.writer(csvfile)\n",
    "    csvWrite.writerows(data)\n"
   ]
  },
  {
   "cell_type": "code",
   "execution_count": 110,
   "metadata": {},
   "outputs": [],
   "source": [
    "with open('./Mini-projects/MSRP/dev.tsv','r',encoding='utf-8') as txtfile, open('dev.csv','w',newline='',encoding='utf-8') as csvfile:\n",
    "    # nếu thừa khoảng trắng thì loại bỏ khoảng trắng, tách ra bằng dấu phẩy\n",
    "    data = [line.strip().split(',') for line in txtfile]\n",
    "    \n",
    "    #! viết vào csv theo từng hàng\n",
    "    csvWrite = csv.writer(csvfile)\n",
    "    csvWrite.writerows(data)"
   ]
  },
  {
   "cell_type": "code",
   "execution_count": 111,
   "metadata": {},
   "outputs": [],
   "source": [
    "\n",
    "with open('./Mini-projects/MSRP/test.tsv','r',encoding='utf-8') as txtfile, open('test.csv','w',newline='',encoding='utf-8') as csvfile:\n",
    "    # nếu thừa khoảng trắng thì loại bỏ khoảng trắng, tách ra bằng dấu phẩy\n",
    "    data = [line.strip().split(',') for line in txtfile]\n",
    "    \n",
    "    #! viết vào csv theo từng hàng\n",
    "    csvWrite = csv.writer(csvfile)\n",
    "    csvWrite.writerows(data)"
   ]
  },
  {
   "cell_type": "code",
   "execution_count": 120,
   "metadata": {},
   "outputs": [],
   "source": [
    "train = pd.read_csv('train.csv',sep='\\t')\n",
    "test = pd.read_csv('test.csv',sep='\\t')\n",
    "dev = pd.read_csv('dev.csv',sep='\\t')"
   ]
  },
  {
   "cell_type": "code",
   "execution_count": 121,
   "metadata": {},
   "outputs": [
    {
     "name": "stdout",
     "output_type": "stream",
     "text": [
      "<class 'pandas.core.frame.DataFrame'>\n",
      "RangeIndex: 3576 entries, 0 to 3575\n",
      "Data columns (total 5 columns):\n",
      " #   Column     Non-Null Count  Dtype  \n",
      "---  ------     --------------  -----  \n",
      " 0   Quality    3576 non-null   object \n",
      " 1   #1 ID      3403 non-null   object \n",
      " 2   #2 ID      3057 non-null   float64\n",
      " 3   #1 String  3057 non-null   object \n",
      " 4   #2 String  3057 non-null   object \n",
      "dtypes: float64(1), object(4)\n",
      "memory usage: 139.8+ KB\n"
     ]
    }
   ],
   "source": [
    "#! kiểm tra data:\n",
    "train.info()"
   ]
  },
  {
   "cell_type": "code",
   "execution_count": 122,
   "metadata": {},
   "outputs": [],
   "source": [
    "# train.fillna(method='ffill', inplace=True)\n",
    "# dev.fillna(method='ffill', inplace=True)\n",
    "# test.fillna(method='ffill', inplace=True)\n",
    "train.dropna(inplace=True)\n",
    "dev.dropna(inplace=True)\n",
    "test.dropna(inplace=True)"
   ]
  },
  {
   "cell_type": "code",
   "execution_count": 123,
   "metadata": {},
   "outputs": [],
   "source": [
    "train['#2 ID'] = train['#2 ID'].astype(object)\n",
    "dev['#2 ID'] = dev['#2 ID'].astype(object)\n",
    "test['#2 ID'] = test['#2 ID'].astype(object)"
   ]
  },
  {
   "cell_type": "code",
   "execution_count": 124,
   "metadata": {},
   "outputs": [
    {
     "name": "stdout",
     "output_type": "stream",
     "text": [
      "<class 'pandas.core.frame.DataFrame'>\n",
      "Index: 3057 entries, 0 to 3575\n",
      "Data columns (total 5 columns):\n",
      " #   Column     Non-Null Count  Dtype \n",
      "---  ------     --------------  ----- \n",
      " 0   Quality    3057 non-null   object\n",
      " 1   #1 ID      3057 non-null   object\n",
      " 2   #2 ID      3057 non-null   object\n",
      " 3   #1 String  3057 non-null   object\n",
      " 4   #2 String  3057 non-null   object\n",
      "dtypes: object(5)\n",
      "memory usage: 143.3+ KB\n"
     ]
    }
   ],
   "source": [
    "train.info()\n",
    "# print(\"--------------\")\n",
    "# dev.info()\n",
    "# print(\"--------------\")\n",
    "# test.info()"
   ]
  },
  {
   "cell_type": "code",
   "execution_count": 125,
   "metadata": {},
   "outputs": [],
   "source": [
    "train.to_csv('train.csv',index=False,sep='\\t')\n",
    "dev.to_csv('dev.csv',index=False,sep='\\t')\n",
    "test.to_csv('test.csv',index=False,sep='\\t')"
   ]
  },
  {
   "cell_type": "code",
   "execution_count": null,
   "metadata": {},
   "outputs": [],
   "source": []
  },
  {
   "cell_type": "code",
   "execution_count": null,
   "metadata": {},
   "outputs": [],
   "source": []
  }
 ],
 "metadata": {
  "kernelspec": {
   "display_name": "Python 3",
   "language": "python",
   "name": "python3"
  },
  "language_info": {
   "codemirror_mode": {
    "name": "ipython",
    "version": 3
   },
   "file_extension": ".py",
   "mimetype": "text/x-python",
   "name": "python",
   "nbconvert_exporter": "python",
   "pygments_lexer": "ipython3",
   "version": "3.11.4"
  }
 },
 "nbformat": 4,
 "nbformat_minor": 2
}
