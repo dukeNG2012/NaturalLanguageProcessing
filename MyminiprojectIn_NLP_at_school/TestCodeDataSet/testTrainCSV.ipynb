{
 "cells": [
  {
   "cell_type": "code",
   "execution_count": 2,
   "metadata": {},
   "outputs": [],
   "source": [
    "import pandas as pd\n",
    "import torch\n",
    "from torch.utils.data import DataLoader\n",
    "import math\n",
    "from sentence_transformers import LoggingHandler, util\n",
    "from sentence_transformers.cross_encoder import CrossEncoder\n",
    "from sentence_transformers.cross_encoder.evaluation import CESoftmaxAccuracyEvaluator\n",
    "from sentence_transformers.readers import InputExample\n",
    "import logging\n",
    "from datetime import datetime\n",
    "import os\n",
    "import gzip\n",
    "import csv\n",
    "from sentence_transformers import evaluation\n"
   ]
  },
  {
   "cell_type": "code",
   "execution_count": 3,
   "metadata": {},
   "outputs": [],
   "source": [
    "train = pd.read_csv('train_data_NLP_DucMinh.csv')\n",
    "test = pd.read_csv('test_data_NLP_DucMinh.csv',encoding='windows-1252')\n",
    "dev = pd.read_csv('dev_data_NLP_DucMinh.csv', encoding='windows-1252')"
   ]
  },
  {
   "cell_type": "code",
   "execution_count": 14,
   "metadata": {},
   "outputs": [
    {
     "data": {
      "text/plain": [
       "0       1\n",
       "1       0\n",
       "2       1\n",
       "3       0\n",
       "4       1\n",
       "       ..\n",
       "3473    1\n",
       "3474    0\n",
       "3475    1\n",
       "3476    0\n",
       "3477    1\n",
       "Name: Quality, Length: 3478, dtype: int64"
      ]
     },
     "execution_count": 14,
     "metadata": {},
     "output_type": "execute_result"
    }
   ],
   "source": [
    "train['Quality']"
   ]
  },
  {
   "cell_type": "code",
   "execution_count": 16,
   "metadata": {},
   "outputs": [
    {
     "ename": "TypeError",
     "evalue": "cannot convert the series to <class 'int'>",
     "output_type": "error",
     "traceback": [
      "\u001b[1;31m---------------------------------------------------------------------------\u001b[0m",
      "\u001b[1;31mTypeError\u001b[0m                                 Traceback (most recent call last)",
      "\u001b[1;32mc:\\Users\\ASUS\\OneDrive\\Documents\\ML_Scientist\\NaturalLanguageProcessing\\MyminiprojectIn_NLP_at_school\\TestCodeDataSet\\testTrainCSV.ipynb Cell 4\u001b[0m line \u001b[0;36m3\n\u001b[0;32m      <a href='vscode-notebook-cell:/c%3A/Users/ASUS/OneDrive/Documents/ML_Scientist/NaturalLanguageProcessing/MyminiprojectIn_NLP_at_school/TestCodeDataSet/testTrainCSV.ipynb#X11sZmlsZQ%3D%3D?line=0'>1</a>\u001b[0m train_samples \u001b[39m=\u001b[39m []\n\u001b[0;32m      <a href='vscode-notebook-cell:/c%3A/Users/ASUS/OneDrive/Documents/ML_Scientist/NaturalLanguageProcessing/MyminiprojectIn_NLP_at_school/TestCodeDataSet/testTrainCSV.ipynb#X11sZmlsZQ%3D%3D?line=1'>2</a>\u001b[0m dev_samples \u001b[39m=\u001b[39m []\n\u001b[1;32m----> <a href='vscode-notebook-cell:/c%3A/Users/ASUS/OneDrive/Documents/ML_Scientist/NaturalLanguageProcessing/MyminiprojectIn_NLP_at_school/TestCodeDataSet/testTrainCSV.ipynb#X11sZmlsZQ%3D%3D?line=2'>3</a>\u001b[0m label_id \u001b[39m=\u001b[39m \u001b[39mint\u001b[39;49m(train[\u001b[39m'\u001b[39;49m\u001b[39mQuality\u001b[39;49m\u001b[39m'\u001b[39;49m])\n\u001b[0;32m      <a href='vscode-notebook-cell:/c%3A/Users/ASUS/OneDrive/Documents/ML_Scientist/NaturalLanguageProcessing/MyminiprojectIn_NLP_at_school/TestCodeDataSet/testTrainCSV.ipynb#X11sZmlsZQ%3D%3D?line=3'>4</a>\u001b[0m \u001b[39mfor\u001b[39;00m row \u001b[39min\u001b[39;00m train:\n\u001b[0;32m      <a href='vscode-notebook-cell:/c%3A/Users/ASUS/OneDrive/Documents/ML_Scientist/NaturalLanguageProcessing/MyminiprojectIn_NLP_at_school/TestCodeDataSet/testTrainCSV.ipynb#X11sZmlsZQ%3D%3D?line=4'>5</a>\u001b[0m     train_samples\u001b[39m.\u001b[39mappend(InputExample(texts\u001b[39m=\u001b[39m[row[\u001b[39m'\u001b[39m\u001b[39m#1 String\u001b[39m\u001b[39m'\u001b[39m],row[\u001b[39m'\u001b[39m\u001b[39m#2 String\u001b[39m\u001b[39m'\u001b[39m]],label\u001b[39m=\u001b[39mlabel_id))\n",
      "File \u001b[1;32m~\\AppData\\Roaming\\Python\\Python311\\site-packages\\pandas\\core\\series.py:230\u001b[0m, in \u001b[0;36m_coerce_method.<locals>.wrapper\u001b[1;34m(self)\u001b[0m\n\u001b[0;32m    222\u001b[0m     warnings\u001b[39m.\u001b[39mwarn(\n\u001b[0;32m    223\u001b[0m         \u001b[39mf\u001b[39m\u001b[39m\"\u001b[39m\u001b[39mCalling \u001b[39m\u001b[39m{\u001b[39;00mconverter\u001b[39m.\u001b[39m\u001b[39m__name__\u001b[39m\u001b[39m}\u001b[39;00m\u001b[39m on a single element Series is \u001b[39m\u001b[39m\"\u001b[39m\n\u001b[0;32m    224\u001b[0m         \u001b[39m\"\u001b[39m\u001b[39mdeprecated and will raise a TypeError in the future. \u001b[39m\u001b[39m\"\u001b[39m\n\u001b[1;32m   (...)\u001b[0m\n\u001b[0;32m    227\u001b[0m         stacklevel\u001b[39m=\u001b[39mfind_stack_level(),\n\u001b[0;32m    228\u001b[0m     )\n\u001b[0;32m    229\u001b[0m     \u001b[39mreturn\u001b[39;00m converter(\u001b[39mself\u001b[39m\u001b[39m.\u001b[39miloc[\u001b[39m0\u001b[39m])\n\u001b[1;32m--> 230\u001b[0m \u001b[39mraise\u001b[39;00m \u001b[39mTypeError\u001b[39;00m(\u001b[39mf\u001b[39m\u001b[39m\"\u001b[39m\u001b[39mcannot convert the series to \u001b[39m\u001b[39m{\u001b[39;00mconverter\u001b[39m}\u001b[39;00m\u001b[39m\"\u001b[39m)\n",
      "\u001b[1;31mTypeError\u001b[0m: cannot convert the series to <class 'int'>"
     ]
    }
   ],
   "source": [
    "train_samples = []\n",
    "dev_samples = []\n",
    "label_id = train['Quality']\n",
    "for row in train:\n",
    "    train_samples.append(InputExample(texts=[row['#1 String'],row['#2 String']],label=label_id))"
   ]
  },
  {
   "cell_type": "code",
   "execution_count": 4,
   "metadata": {},
   "outputs": [
    {
     "data": {
      "text/plain": [
       "0       1\n",
       "1       1\n",
       "2       1\n",
       "3       0\n",
       "4       0\n",
       "       ..\n",
       "1645    0\n",
       "1646    0\n",
       "1647    0\n",
       "1648    1\n",
       "1649    1\n",
       "Name: Quality, Length: 1650, dtype: int64"
      ]
     },
     "execution_count": 4,
     "metadata": {},
     "output_type": "execute_result"
    }
   ],
   "source": [
    "test['Quality']"
   ]
  },
  {
   "cell_type": "code",
   "execution_count": 5,
   "metadata": {},
   "outputs": [
    {
     "data": {
      "text/plain": [
       "1650"
      ]
     },
     "execution_count": 5,
     "metadata": {},
     "output_type": "execute_result"
    }
   ],
   "source": [
    "len(train)\n",
    "len(test)"
   ]
  },
  {
   "cell_type": "code",
   "execution_count": 6,
   "metadata": {},
   "outputs": [
    {
     "name": "stderr",
     "output_type": "stream",
     "text": [
      "Some weights of RobertaForSequenceClassification were not initialized from the model checkpoint at distilroberta-base and are newly initialized: ['classifier.dense.weight', 'classifier.dense.bias', 'classifier.out_proj.weight', 'classifier.out_proj.bias']\n",
      "You should probably TRAIN this model on a down-stream task to be able to use it for predictions and inference.\n"
     ]
    }
   ],
   "source": [
    "train_batch_size = 16\n",
    "num_epochs = 1\n",
    "model_save_path = 'output/training-' + datetime.now().strftime(\"%y-%m-%d_%H-%M-%S\")\n",
    "model_nli = CrossEncoder('distilroberta-base', num_labels=len(str(2))) # vì chỉ có 2 label là 0 và 1\n",
    "\n"
   ]
  },
  {
   "cell_type": "code",
   "execution_count": 7,
   "metadata": {},
   "outputs": [],
   "source": [
    "train_dataloader = DataLoader(train, shuffle=True, batch_size=train_batch_size)"
   ]
  },
  {
   "cell_type": "code",
   "execution_count": 8,
   "metadata": {},
   "outputs": [
    {
     "ename": "AttributeError",
     "evalue": "'str' object has no attribute 'texts'",
     "output_type": "error",
     "traceback": [
      "\u001b[1;31m---------------------------------------------------------------------------\u001b[0m",
      "\u001b[1;31mAttributeError\u001b[0m                            Traceback (most recent call last)",
      "\u001b[1;32mc:\\Users\\ASUS\\OneDrive\\Documents\\ML_Scientist\\NaturalLanguageProcessing\\MyminiprojectIn_NLP_at_school\\TestCodeDataSet\\testTrainCSV.ipynb Cell 7\u001b[0m line \u001b[0;36m1\n\u001b[1;32m----> <a href='vscode-notebook-cell:/c%3A/Users/ASUS/OneDrive/Documents/ML_Scientist/NaturalLanguageProcessing/MyminiprojectIn_NLP_at_school/TestCodeDataSet/testTrainCSV.ipynb#W6sZmlsZQ%3D%3D?line=0'>1</a>\u001b[0m evaluator \u001b[39m=\u001b[39m CESoftmaxAccuracyEvaluator\u001b[39m.\u001b[39;49mfrom_input_examples(dev,name\u001b[39m=\u001b[39;49m\u001b[39m'\u001b[39;49m\u001b[39mDUC-dev\u001b[39;49m\u001b[39m'\u001b[39;49m)\n\u001b[0;32m      <a href='vscode-notebook-cell:/c%3A/Users/ASUS/OneDrive/Documents/ML_Scientist/NaturalLanguageProcessing/MyminiprojectIn_NLP_at_school/TestCodeDataSet/testTrainCSV.ipynb#W6sZmlsZQ%3D%3D?line=1'>2</a>\u001b[0m \u001b[39m#evaluator = evaluation.EmbeddingSimilarityEvaluator(dev['#1 String'], dev['#2 String'], dev['Quality'])\u001b[39;00m\n\u001b[0;32m      <a href='vscode-notebook-cell:/c%3A/Users/ASUS/OneDrive/Documents/ML_Scientist/NaturalLanguageProcessing/MyminiprojectIn_NLP_at_school/TestCodeDataSet/testTrainCSV.ipynb#W6sZmlsZQ%3D%3D?line=2'>3</a>\u001b[0m warmup_steps \u001b[39m=\u001b[39m math\u001b[39m.\u001b[39mceil(\u001b[39mlen\u001b[39m(train_dataloader) \u001b[39m*\u001b[39m num_epochs \u001b[39m*\u001b[39m \u001b[39m0.1\u001b[39m) \u001b[39m#10% warm up\u001b[39;00m\n",
      "File \u001b[1;32m~\\AppData\\Roaming\\Python\\Python311\\site-packages\\sentence_transformers\\cross_encoder\\evaluation\\CESoftmaxAccuracyEvaluator.py:33\u001b[0m, in \u001b[0;36mCESoftmaxAccuracyEvaluator.from_input_examples\u001b[1;34m(cls, examples, **kwargs)\u001b[0m\n\u001b[0;32m     30\u001b[0m labels \u001b[39m=\u001b[39m []\n\u001b[0;32m     32\u001b[0m \u001b[39mfor\u001b[39;00m example \u001b[39min\u001b[39;00m examples:\n\u001b[1;32m---> 33\u001b[0m     sentence_pairs\u001b[39m.\u001b[39mappend(example\u001b[39m.\u001b[39;49mtexts)\n\u001b[0;32m     34\u001b[0m     labels\u001b[39m.\u001b[39mappend(example\u001b[39m.\u001b[39mlabel)\n\u001b[0;32m     35\u001b[0m \u001b[39mreturn\u001b[39;00m \u001b[39mcls\u001b[39m(sentence_pairs, labels, \u001b[39m*\u001b[39m\u001b[39m*\u001b[39mkwargs)\n",
      "\u001b[1;31mAttributeError\u001b[0m: 'str' object has no attribute 'texts'"
     ]
    }
   ],
   "source": [
    "evaluator = CESoftmaxAccuracyEvaluator.from_input_examples(dev,name='DUC-dev')\n",
    "#evaluator = evaluation.EmbeddingSimilarityEvaluator(dev['#1 String'], dev['#2 String'], dev['Quality'])\n",
    "warmup_steps = math.ceil(len(train_dataloader) * num_epochs * 0.1) #10% warm up\n",
    "\n",
    "logging.info(\"Warmup steps: {}\".format(warmup_steps))\n",
    "\n",
    "# training\n",
    "model_nli.fit(train_dataloader=train_dataloader, evaluator=evaluator,\n",
    "              epochs=num_epochs,\n",
    "              evaluation_steps=10000,\n",
    "              warmup_steps=warmup_steps,\n",
    "              output_path=model_save_path)\n"
   ]
  },
  {
   "cell_type": "code",
   "execution_count": null,
   "metadata": {},
   "outputs": [],
   "source": []
  }
 ],
 "metadata": {
  "kernelspec": {
   "display_name": "Python 3",
   "language": "python",
   "name": "python3"
  },
  "language_info": {
   "codemirror_mode": {
    "name": "ipython",
    "version": 3
   },
   "file_extension": ".py",
   "mimetype": "text/x-python",
   "name": "python",
   "nbconvert_exporter": "python",
   "pygments_lexer": "ipython3",
   "version": "3.11.4"
  },
  "orig_nbformat": 4
 },
 "nbformat": 4,
 "nbformat_minor": 2
}
